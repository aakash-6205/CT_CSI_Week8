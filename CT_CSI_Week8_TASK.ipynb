{
 "cells": [
  {
   "cell_type": "code",
   "execution_count": 1,
   "id": "53d93c0f-2193-4644-bdbc-4f5132300993",
   "metadata": {},
   "outputs": [],
   "source": [
    "import numpy as np \n",
    "import pandas as pd \n",
    "import os\n",
    "for dirname, _, filenames in os.walk('/kaggle/input'):\n",
    "    for filename in filenames:\n",
    "        print(os.path.join(dirname, filename))\n",
    "import pandas as pd\n",
    "from sklearn.model_selection import train_test_split\n",
    "from sklearn.preprocessing import LabelEncoder, StandardScaler\n",
    "from sklearn.linear_model import LogisticRegression, LinearRegression\n",
    "from sklearn.ensemble import RandomForestClassifier\n",
    "from sklearn.metrics import accuracy_score, classification_report, mean_squared_error\n",
    "import numpy as np\n",
    "import pandas as pd\n",
    "from sklearn.model_selection import train_test_split\n",
    "from sklearn.preprocessing import LabelEncoder, StandardScaler\n",
    "from sklearn.linear_model import LogisticRegression, LinearRegression\n",
    "from sklearn.ensemble import RandomForestClassifier\n",
    "from sklearn.metrics import accuracy_score, classification_report, mean_squared_error\n",
    "import numpy as np"
   ]
  },
  {
   "cell_type": "markdown",
   "id": "7b676473-3fc4-47fd-8e3b-784bf0ffa931",
   "metadata": {},
   "source": [
    "# Loan Eligibility Prediction"
   ]
  },
  {
   "cell_type": "markdown",
   "id": "db4b9b1f-fae6-42c8-a57a-aea33f40c5f5",
   "metadata": {},
   "source": [
    "### This notebook demonstrates the process of predicting loan eligibility based on customer details. The steps include data preprocessing, model training, and generating predictions for the test dataset."
   ]
  },
  {
   "cell_type": "markdown",
   "id": "d99469c0-c661-41e3-9d58-caa2a39a0f96",
   "metadata": {},
   "source": [
    "# Step 1: Import Necessary Libraries"
   ]
  },
  {
   "cell_type": "code",
   "execution_count": 2,
   "id": "4b51e189-beb0-48dd-8d78-920ff345d459",
   "metadata": {},
   "outputs": [],
   "source": [
    "# Import necessary libraries\n",
    "import pandas as pd\n",
    "from sklearn.model_selection import train_test_split\n",
    "from sklearn.preprocessing import LabelEncoder, StandardScaler\n",
    "from sklearn.linear_model import LogisticRegression, LinearRegression\n",
    "from sklearn.ensemble import RandomForestClassifier\n",
    "from sklearn.metrics import accuracy_score, classification_report, mean_squared_error"
   ]
  },
  {
   "cell_type": "markdown",
   "id": "09cc4d42-854b-4208-9843-92236931d6aa",
   "metadata": {},
   "source": [
    "# Step 2: Load Datasets"
   ]
  },
  {
   "cell_type": "code",
   "execution_count": 3,
   "id": "758b2efd-5d88-48a6-b8c2-2f36e47735f6",
   "metadata": {},
   "outputs": [
    {
     "name": "stdout",
     "output_type": "stream",
     "text": [
      "Training Data:\n",
      "    Loan_ID Gender Married Dependents     Education Self_Employed  \\\n",
      "0  LP001002   Male      No          0      Graduate            No   \n",
      "1  LP001003   Male     Yes          1      Graduate            No   \n",
      "2  LP001005   Male     Yes          0      Graduate           Yes   \n",
      "3  LP001006   Male     Yes          0  Not Graduate            No   \n",
      "4  LP001008   Male      No          0      Graduate            No   \n",
      "\n",
      "   ApplicantIncome  CoapplicantIncome  LoanAmount  Loan_Amount_Term  \\\n",
      "0             5849                0.0         NaN             360.0   \n",
      "1             4583             1508.0       128.0             360.0   \n",
      "2             3000                0.0        66.0             360.0   \n",
      "3             2583             2358.0       120.0             360.0   \n",
      "4             6000                0.0       141.0             360.0   \n",
      "\n",
      "   Credit_History Property_Area Loan_Status  \n",
      "0             1.0         Urban           Y  \n",
      "1             1.0         Rural           N  \n",
      "2             1.0         Urban           Y  \n",
      "3             1.0         Urban           Y  \n",
      "4             1.0         Urban           Y  \n",
      "\n",
      "Test Data:\n",
      "    Loan_ID Gender Married Dependents     Education Self_Employed  \\\n",
      "0  LP001015   Male     Yes          0      Graduate            No   \n",
      "1  LP001022   Male     Yes          1      Graduate            No   \n",
      "2  LP001031   Male     Yes          2      Graduate            No   \n",
      "3  LP001035   Male     Yes          2      Graduate            No   \n",
      "4  LP001051   Male      No          0  Not Graduate            No   \n",
      "\n",
      "   ApplicantIncome  CoapplicantIncome  LoanAmount  Loan_Amount_Term  \\\n",
      "0             5720                  0       110.0             360.0   \n",
      "1             3076               1500       126.0             360.0   \n",
      "2             5000               1800       208.0             360.0   \n",
      "3             2340               2546       100.0             360.0   \n",
      "4             3276                  0        78.0             360.0   \n",
      "\n",
      "   Credit_History Property_Area  \n",
      "0             1.0         Urban  \n",
      "1             1.0         Urban  \n",
      "2             1.0         Urban  \n",
      "3             NaN         Urban  \n",
      "4             1.0         Urban  \n",
      "\n",
      "Sample Submission:\n",
      "    Loan_ID Loan_Status\n",
      "0  LP001015           N\n",
      "1  LP001022           N\n",
      "2  LP001031           N\n",
      "3  LP001035           N\n",
      "4  LP001051           N\n"
     ]
    }
   ],
   "source": [
    "# Load datasets\n",
    "train_data = pd.read_csv('Training Dataset.csv')\n",
    "test_data = pd.read_csv('Test Dataset.csv')\n",
    "sample_submission = pd.read_csv('Sample_Submission.csv')\n",
    "\n",
    "# Display the first few rows of each dataset\n",
    "print(\"Training Data:\")\n",
    "print(train_data.head())\n",
    "\n",
    "print(\"\\nTest Data:\")\n",
    "print(test_data.head())\n",
    "\n",
    "print(\"\\nSample Submission:\")\n",
    "print(sample_submission.head())"
   ]
  },
  {
   "cell_type": "markdown",
   "id": "3625bbc2-bf1c-4ffd-80a5-1eebdb7d4527",
   "metadata": {},
   "source": [
    "# Step 3: Handle Missing Values"
   ]
  },
  {
   "cell_type": "code",
   "execution_count": 4,
   "id": "097019c9-0add-4ea3-9098-f0e25b102341",
   "metadata": {},
   "outputs": [],
   "source": [
    "# Handle missing values in training data\n",
    "train_data['Gender'] = train_data['Gender'].fillna(train_data['Gender'].mode()[0])\n",
    "train_data['Married'] = train_data['Married'].fillna(train_data['Married'].mode()[0])\n",
    "train_data['Dependents'] = train_data['Dependents'].fillna(train_data['Dependents'].mode()[0])\n",
    "train_data['Self_Employed'] = train_data['Self_Employed'].fillna(train_data['Self_Employed'].mode()[0])\n",
    "train_data['Credit_History'] = train_data['Credit_History'].fillna(train_data['Credit_History'].mode()[0])\n",
    "train_data['LoanAmount'] = train_data['LoanAmount'].fillna(train_data['LoanAmount'].mean())\n",
    "train_data['Loan_Amount_Term'] = train_data['Loan_Amount_Term'].fillna(train_data['Loan_Amount_Term'].mean())\n",
    "\n",
    "# Handle missing values in testing data\n",
    "test_data['Gender'] = test_data['Gender'].fillna(test_data['Gender'].mode()[0])\n",
    "test_data['Married'] = test_data['Married'].fillna(test_data['Married'].mode()[0])\n",
    "test_data['Dependents'] = test_data['Dependents'].fillna(test_data['Dependents'].mode()[0])\n",
    "test_data['Self_Employed'] = test_data['Self_Employed'].fillna(test_data['Self_Employed'].mode()[0])\n",
    "test_data['Credit_History'] = test_data['Credit_History'].fillna(test_data['Credit_History'].mode()[0])\n",
    "test_data['LoanAmount'] = test_data['LoanAmount'].fillna(test_data['LoanAmount'].mean())\n",
    "test_data['Loan_Amount_Term'] = test_data['Loan_Amount_Term'].fillna(test_data['Loan_Amount_Term'].mean())"
   ]
  },
  {
   "cell_type": "markdown",
   "id": "afa4cd29-a953-46c7-9b59-84bd65af3cf4",
   "metadata": {},
   "source": [
    "# Step 4: Encode Categorical Variables"
   ]
  },
  {
   "cell_type": "code",
   "execution_count": 5,
   "id": "36e35653-3db6-4bb2-9dd6-795422d66b26",
   "metadata": {},
   "outputs": [],
   "source": [
    "# One-hot encode categorical variables\n",
    "train_data = pd.get_dummies(train_data, columns=['Gender', 'Married', 'Dependents', 'Education', 'Self_Employed', 'Property_Area'], drop_first=True)\n",
    "test_data = pd.get_dummies(test_data, columns=['Gender', 'Married', 'Dependents', 'Education', 'Self_Employed', 'Property_Area'], drop_first=True)"
   ]
  },
  {
   "cell_type": "markdown",
   "id": "b09acb13-45ad-4b63-8b18-b24cd6917f49",
   "metadata": {},
   "source": [
    "# Step 5: Split Training Data into Training and Validation Sets"
   ]
  },
  {
   "cell_type": "code",
   "execution_count": 6,
   "id": "36ad7e63-fad0-4934-9550-b5ec5e0621e6",
   "metadata": {},
   "outputs": [],
   "source": [
    "# Split the training data into training and validation sets\n",
    "X = train_data.drop(['Loan_ID', 'Loan_Status'], axis=1)\n",
    "y = train_data['Loan_Status']\n",
    "X_train, X_val, y_train, y_val = train_test_split(X, y, test_size=0.2, random_state=42)"
   ]
  },
  {
   "cell_type": "markdown",
   "id": "83720935-a70c-486b-8e9d-e75872656bbc",
   "metadata": {},
   "source": [
    "# Step 6: Scale Numerical Features"
   ]
  },
  {
   "cell_type": "code",
   "execution_count": 7,
   "id": "30f01897-a2cc-470e-92cd-b92305404622",
   "metadata": {},
   "outputs": [],
   "source": [
    "# Scale numerical features\n",
    "scaler = StandardScaler()\n",
    "X_train[['ApplicantIncome', 'CoapplicantIncome', 'LoanAmount', 'Loan_Amount_Term']] = scaler.fit_transform(X_train[['ApplicantIncome', 'CoapplicantIncome', 'LoanAmount', 'Loan_Amount_Term']])\n",
    "X_val[['ApplicantIncome', 'CoapplicantIncome', 'LoanAmount', 'Loan_Amount_Term']] = scaler.transform(X_val[['ApplicantIncome', 'CoapplicantIncome', 'LoanAmount', 'Loan_Amount_Term']])\n",
    "test_data[['ApplicantIncome', 'CoapplicantIncome', 'LoanAmount', 'Loan_Amount_Term']] = scaler.transform(test_data[['ApplicantIncome', 'CoapplicantIncome', 'LoanAmount', 'Loan_Amount_Term']])"
   ]
  },
  {
   "cell_type": "markdown",
   "id": "2a0e01b5-3db2-4561-abfd-b30fea806c43",
   "metadata": {},
   "source": [
    "# Step 7: Train a Logistic Regression Model"
   ]
  },
  {
   "cell_type": "code",
   "execution_count": 8,
   "id": "bc24a915-c237-47ba-81a3-787a64e1598d",
   "metadata": {},
   "outputs": [
    {
     "name": "stdout",
     "output_type": "stream",
     "text": [
      "Logistic Regression Model:\n",
      "Accuracy: 0.7886178861788617\n",
      "Classification Report:\n",
      "              precision    recall  f1-score   support\n",
      "\n",
      "           N       0.95      0.42      0.58        43\n",
      "           Y       0.76      0.99      0.86        80\n",
      "\n",
      "    accuracy                           0.79       123\n",
      "   macro avg       0.85      0.70      0.72       123\n",
      "weighted avg       0.83      0.79      0.76       123\n",
      "\n"
     ]
    }
   ],
   "source": [
    "# Train a Logistic Regression model\n",
    "log_reg = LogisticRegression(random_state=42, max_iter=1000)\n",
    "log_reg.fit(X_train, y_train)\n",
    "\n",
    "# Predict on the validation set\n",
    "y_val_pred_log = log_reg.predict(X_val)\n",
    "\n",
    "# Evaluate the Logistic Regression model\n",
    "accuracy_log = accuracy_score(y_val, y_val_pred_log)\n",
    "classification_rep_log = classification_report(y_val, y_val_pred_log)\n",
    "\n",
    "print(\"Logistic Regression Model:\")\n",
    "print(f\"Accuracy: {accuracy_log}\")\n",
    "print(f\"Classification Report:\\n{classification_rep_log}\")"
   ]
  },
  {
   "cell_type": "markdown",
   "id": "b2af9e16-3e1d-41a6-802c-993bebeb9da4",
   "metadata": {},
   "source": [
    "# Step 8: Train a Random Forest Model"
   ]
  },
  {
   "cell_type": "code",
   "execution_count": 9,
   "id": "b5d215c0-8a54-4b5f-9de9-a638d70ac550",
   "metadata": {},
   "outputs": [
    {
     "name": "stdout",
     "output_type": "stream",
     "text": [
      "\n",
      "Random Forest Model:\n",
      "Accuracy: 0.7804878048780488\n",
      "Classification Report:\n",
      "              precision    recall  f1-score   support\n",
      "\n",
      "           N       0.90      0.42      0.57        43\n",
      "           Y       0.76      0.97      0.85        80\n",
      "\n",
      "    accuracy                           0.78       123\n",
      "   macro avg       0.83      0.70      0.71       123\n",
      "weighted avg       0.81      0.78      0.75       123\n",
      "\n"
     ]
    }
   ],
   "source": [
    "# Train a Random Forest model\n",
    "rf_clf = RandomForestClassifier(random_state=42)\n",
    "rf_clf.fit(X_train, y_train)\n",
    "\n",
    "# Predict on the validation set\n",
    "y_val_pred_rf = rf_clf.predict(X_val)\n",
    "\n",
    "# Evaluate the Random Forest model\n",
    "accuracy_rf = accuracy_score(y_val, y_val_pred_rf)\n",
    "classification_rep_rf = classification_report(y_val, y_val_pred_rf)\n",
    "\n",
    "print(\"\\nRandom Forest Model:\")\n",
    "print(f\"Accuracy: {accuracy_rf}\")\n",
    "print(f\"Classification Report:\\n{classification_rep_rf}\")"
   ]
  },
  {
   "cell_type": "markdown",
   "id": "76e1df62-dbe8-497a-907f-deed42f83a2f",
   "metadata": {},
   "source": [
    "## First, ENCODE THE TARGET VARIABLES, AND make sure you're using the LabelEncoder consistently:"
   ]
  },
  {
   "cell_type": "code",
   "execution_count": 11,
   "id": "1b82d330-95b9-47c9-bbd4-aa7e8e368856",
   "metadata": {},
   "outputs": [],
   "source": [
    "from sklearn.preprocessing import LabelEncoder\n",
    "\n",
    "# Create the LabelEncoder\n",
    "loan_status_le = LabelEncoder()\n",
    "\n",
    "# Fit the encoder on the entire training set\n",
    "loan_status_le.fit(train_data['Loan_Status'])\n",
    "\n",
    "# Transform the training data\n",
    "y = loan_status_le.transform(train_data['Loan_Status'])\n",
    "\n",
    "# Split the data\n",
    "X_train, X_val, y_train, y_val = train_test_split(X, y, test_size=0.2, random_state=42)"
   ]
  },
  {
   "cell_type": "markdown",
   "id": "0ddd2736-635d-4b70-982d-dbb3934e413d",
   "metadata": {},
   "source": [
    "When making predictions on the test set, you'll need to decode the predictions back to 'Y' and 'N':"
   ]
  },
  {
   "cell_type": "code",
   "execution_count": 12,
   "id": "ba3feb4a-8866-45ed-9aab-4c19b616cbc4",
   "metadata": {},
   "outputs": [],
   "source": [
    "# Predict on the test set\n",
    "lin_reg = LinearRegression()\n",
    "lin_reg.fit(X_train, y_train)\n",
    "X_test = test_data.drop('Loan_ID', axis=1)\n",
    "test_preds_lr = lin_reg.predict(X_test)\n",
    "test_preds_lr_binary = np.round(test_preds_lr).astype(int)\n",
    "\n",
    "# Decode predictions\n",
    "test_preds_decoded = loan_status_le.inverse_transform(test_preds_lr_binary)"
   ]
  },
  {
   "cell_type": "markdown",
   "id": "9979027d-2d4f-467f-a2ef-f1211d890d27",
   "metadata": {},
   "source": [
    "When training your models, use the transformed y values"
   ]
  },
  {
   "cell_type": "code",
   "execution_count": 13,
   "id": "bd41f477-da70-407d-adda-693c0d618000",
   "metadata": {},
   "outputs": [
    {
     "data": {
      "text/html": [
       "<style>#sk-container-id-1 {color: black;background-color: white;}#sk-container-id-1 pre{padding: 0;}#sk-container-id-1 div.sk-toggleable {background-color: white;}#sk-container-id-1 label.sk-toggleable__label {cursor: pointer;display: block;width: 100%;margin-bottom: 0;padding: 0.3em;box-sizing: border-box;text-align: center;}#sk-container-id-1 label.sk-toggleable__label-arrow:before {content: \"▸\";float: left;margin-right: 0.25em;color: #696969;}#sk-container-id-1 label.sk-toggleable__label-arrow:hover:before {color: black;}#sk-container-id-1 div.sk-estimator:hover label.sk-toggleable__label-arrow:before {color: black;}#sk-container-id-1 div.sk-toggleable__content {max-height: 0;max-width: 0;overflow: hidden;text-align: left;background-color: #f0f8ff;}#sk-container-id-1 div.sk-toggleable__content pre {margin: 0.2em;color: black;border-radius: 0.25em;background-color: #f0f8ff;}#sk-container-id-1 input.sk-toggleable__control:checked~div.sk-toggleable__content {max-height: 200px;max-width: 100%;overflow: auto;}#sk-container-id-1 input.sk-toggleable__control:checked~label.sk-toggleable__label-arrow:before {content: \"▾\";}#sk-container-id-1 div.sk-estimator input.sk-toggleable__control:checked~label.sk-toggleable__label {background-color: #d4ebff;}#sk-container-id-1 div.sk-label input.sk-toggleable__control:checked~label.sk-toggleable__label {background-color: #d4ebff;}#sk-container-id-1 input.sk-hidden--visually {border: 0;clip: rect(1px 1px 1px 1px);clip: rect(1px, 1px, 1px, 1px);height: 1px;margin: -1px;overflow: hidden;padding: 0;position: absolute;width: 1px;}#sk-container-id-1 div.sk-estimator {font-family: monospace;background-color: #f0f8ff;border: 1px dotted black;border-radius: 0.25em;box-sizing: border-box;margin-bottom: 0.5em;}#sk-container-id-1 div.sk-estimator:hover {background-color: #d4ebff;}#sk-container-id-1 div.sk-parallel-item::after {content: \"\";width: 100%;border-bottom: 1px solid gray;flex-grow: 1;}#sk-container-id-1 div.sk-label:hover label.sk-toggleable__label {background-color: #d4ebff;}#sk-container-id-1 div.sk-serial::before {content: \"\";position: absolute;border-left: 1px solid gray;box-sizing: border-box;top: 0;bottom: 0;left: 50%;z-index: 0;}#sk-container-id-1 div.sk-serial {display: flex;flex-direction: column;align-items: center;background-color: white;padding-right: 0.2em;padding-left: 0.2em;position: relative;}#sk-container-id-1 div.sk-item {position: relative;z-index: 1;}#sk-container-id-1 div.sk-parallel {display: flex;align-items: stretch;justify-content: center;background-color: white;position: relative;}#sk-container-id-1 div.sk-item::before, #sk-container-id-1 div.sk-parallel-item::before {content: \"\";position: absolute;border-left: 1px solid gray;box-sizing: border-box;top: 0;bottom: 0;left: 50%;z-index: -1;}#sk-container-id-1 div.sk-parallel-item {display: flex;flex-direction: column;z-index: 1;position: relative;background-color: white;}#sk-container-id-1 div.sk-parallel-item:first-child::after {align-self: flex-end;width: 50%;}#sk-container-id-1 div.sk-parallel-item:last-child::after {align-self: flex-start;width: 50%;}#sk-container-id-1 div.sk-parallel-item:only-child::after {width: 0;}#sk-container-id-1 div.sk-dashed-wrapped {border: 1px dashed gray;margin: 0 0.4em 0.5em 0.4em;box-sizing: border-box;padding-bottom: 0.4em;background-color: white;}#sk-container-id-1 div.sk-label label {font-family: monospace;font-weight: bold;display: inline-block;line-height: 1.2em;}#sk-container-id-1 div.sk-label-container {text-align: center;}#sk-container-id-1 div.sk-container {/* jupyter's `normalize.less` sets `[hidden] { display: none; }` but bootstrap.min.css set `[hidden] { display: none !important; }` so we also need the `!important` here to be able to override the default hidden behavior on the sphinx rendered scikit-learn.org. See: https://github.com/scikit-learn/scikit-learn/issues/21755 */display: inline-block !important;position: relative;}#sk-container-id-1 div.sk-text-repr-fallback {display: none;}</style><div id=\"sk-container-id-1\" class=\"sk-top-container\"><div class=\"sk-text-repr-fallback\"><pre>RandomForestClassifier(random_state=42)</pre><b>In a Jupyter environment, please rerun this cell to show the HTML representation or trust the notebook. <br />On GitHub, the HTML representation is unable to render, please try loading this page with nbviewer.org.</b></div><div class=\"sk-container\" hidden><div class=\"sk-item\"><div class=\"sk-estimator sk-toggleable\"><input class=\"sk-toggleable__control sk-hidden--visually\" id=\"sk-estimator-id-1\" type=\"checkbox\" checked><label for=\"sk-estimator-id-1\" class=\"sk-toggleable__label sk-toggleable__label-arrow\">RandomForestClassifier</label><div class=\"sk-toggleable__content\"><pre>RandomForestClassifier(random_state=42)</pre></div></div></div></div></div>"
      ],
      "text/plain": [
       "RandomForestClassifier(random_state=42)"
      ]
     },
     "execution_count": 13,
     "metadata": {},
     "output_type": "execute_result"
    }
   ],
   "source": [
    "# Train Random Forest model (or whichever model you choose as final_model)\n",
    "rf_clf = RandomForestClassifier(random_state=42)\n",
    "rf_clf.fit(X_train, y_train)"
   ]
  },
  {
   "cell_type": "markdown",
   "id": "a1e6a994-e30b-43ea-b34b-2cb809d0d75d",
   "metadata": {},
   "source": [
    "FOR prediction and evaluation, use the encoded values and then decode when necessary"
   ]
  },
  {
   "cell_type": "code",
   "execution_count": 14,
   "id": "71346273-7d6f-49d4-bb6a-66beda94cebc",
   "metadata": {},
   "outputs": [],
   "source": [
    "# # Predict on the validation set\n",
    "# y_val_pred_rf = rf_clf.predict(X_val)\n",
    "\n",
    "# # Evaluate using encoded values\n",
    "# accuracy_rf = accuracy_score(y_val, y_val_pred_rf)\n",
    "# classification_rep_rf = classification_report(y_val, y_val_pred_rf)\n",
    "\n",
    "# print(\"\\nRandom Forest Model:\")\n",
    "# print(f\"Accuracy: {accuracy_rf}\")\n",
    "# print(f\"Classification Report:\\n{classification_rep_rf}\")\n",
    "\n",
    "# # If you need to see the actual 'Y' and 'N' values:\n",
    "# y_val_decoded = loan_status_le.inverse_transform(y_val)\n",
    "# y_val_pred_rf_decoded = loan_status_le.inverse_transform(y_val_pred_rf)"
   ]
  },
  {
   "cell_type": "markdown",
   "id": "3a647f31-cb0b-4589-a8c6-b1252982b10f",
   "metadata": {},
   "source": [
    "FOR THE FINAL PREDICTION ON THE TEST SET"
   ]
  },
  {
   "cell_type": "code",
   "execution_count": 15,
   "id": "1d80d3a3-ea18-49f3-bba8-4ea724fc09c5",
   "metadata": {},
   "outputs": [
    {
     "name": "stdout",
     "output_type": "stream",
     "text": [
      "\n",
      "Final Submission sample as Random forest is :\n",
      "    Loan_ID Loan_Status\n",
      "0  LP001015           Y\n",
      "1  LP001022           Y\n",
      "2  LP001031           Y\n",
      "3  LP001035           Y\n",
      "4  LP001051           N\n"
     ]
    }
   ],
   "source": [
    "# Choose the better model for final prediction\n",
    "final_model = rf_clf  # or whichever model you choose\n",
    "\n",
    "# Predict on the test set\n",
    "X_test = test_data.drop('Loan_ID', axis=1)\n",
    "test_preds = final_model.predict(X_test)\n",
    "\n",
    "# Decode predictions\n",
    "test_preds_decoded = loan_status_le.inverse_transform(test_preds)\n",
    "\n",
    "# Prepare the submission file\n",
    "submission = pd.DataFrame({'Loan_ID': test_data['Loan_ID'], 'Loan_Status': test_preds_decoded})\n",
    "# submission.to_csv('Final_Submission.csv', index=False)\n",
    "\n",
    "print(\"\\nFinal Submission sample as Random forest is :\")\n",
    "print(submission.head())"
   ]
  },
  {
   "cell_type": "code",
   "execution_count": 16,
   "id": "42774a32-71ea-4302-9790-24aa823d92d1",
   "metadata": {},
   "outputs": [],
   "source": [
    "# Predict on the test set\n",
    "X_test = test_data.drop('Loan_ID', axis=1)\n",
    "test_preds_lr = lin_reg.predict(X_test)\n",
    "test_preds_lr_binary = np.round(test_preds_lr).astype(int)\n",
    "\n",
    "# Decode predictions\n",
    "test_preds_decoded = loan_status_le.inverse_transform(test_preds_lr_binary)"
   ]
  },
  {
   "cell_type": "code",
   "execution_count": 17,
   "id": "89947832-5535-4cfc-beaa-23bf9b1c81df",
   "metadata": {},
   "outputs": [
    {
     "data": {
      "text/html": [
       "<style>#sk-container-id-2 {color: black;background-color: white;}#sk-container-id-2 pre{padding: 0;}#sk-container-id-2 div.sk-toggleable {background-color: white;}#sk-container-id-2 label.sk-toggleable__label {cursor: pointer;display: block;width: 100%;margin-bottom: 0;padding: 0.3em;box-sizing: border-box;text-align: center;}#sk-container-id-2 label.sk-toggleable__label-arrow:before {content: \"▸\";float: left;margin-right: 0.25em;color: #696969;}#sk-container-id-2 label.sk-toggleable__label-arrow:hover:before {color: black;}#sk-container-id-2 div.sk-estimator:hover label.sk-toggleable__label-arrow:before {color: black;}#sk-container-id-2 div.sk-toggleable__content {max-height: 0;max-width: 0;overflow: hidden;text-align: left;background-color: #f0f8ff;}#sk-container-id-2 div.sk-toggleable__content pre {margin: 0.2em;color: black;border-radius: 0.25em;background-color: #f0f8ff;}#sk-container-id-2 input.sk-toggleable__control:checked~div.sk-toggleable__content {max-height: 200px;max-width: 100%;overflow: auto;}#sk-container-id-2 input.sk-toggleable__control:checked~label.sk-toggleable__label-arrow:before {content: \"▾\";}#sk-container-id-2 div.sk-estimator input.sk-toggleable__control:checked~label.sk-toggleable__label {background-color: #d4ebff;}#sk-container-id-2 div.sk-label input.sk-toggleable__control:checked~label.sk-toggleable__label {background-color: #d4ebff;}#sk-container-id-2 input.sk-hidden--visually {border: 0;clip: rect(1px 1px 1px 1px);clip: rect(1px, 1px, 1px, 1px);height: 1px;margin: -1px;overflow: hidden;padding: 0;position: absolute;width: 1px;}#sk-container-id-2 div.sk-estimator {font-family: monospace;background-color: #f0f8ff;border: 1px dotted black;border-radius: 0.25em;box-sizing: border-box;margin-bottom: 0.5em;}#sk-container-id-2 div.sk-estimator:hover {background-color: #d4ebff;}#sk-container-id-2 div.sk-parallel-item::after {content: \"\";width: 100%;border-bottom: 1px solid gray;flex-grow: 1;}#sk-container-id-2 div.sk-label:hover label.sk-toggleable__label {background-color: #d4ebff;}#sk-container-id-2 div.sk-serial::before {content: \"\";position: absolute;border-left: 1px solid gray;box-sizing: border-box;top: 0;bottom: 0;left: 50%;z-index: 0;}#sk-container-id-2 div.sk-serial {display: flex;flex-direction: column;align-items: center;background-color: white;padding-right: 0.2em;padding-left: 0.2em;position: relative;}#sk-container-id-2 div.sk-item {position: relative;z-index: 1;}#sk-container-id-2 div.sk-parallel {display: flex;align-items: stretch;justify-content: center;background-color: white;position: relative;}#sk-container-id-2 div.sk-item::before, #sk-container-id-2 div.sk-parallel-item::before {content: \"\";position: absolute;border-left: 1px solid gray;box-sizing: border-box;top: 0;bottom: 0;left: 50%;z-index: -1;}#sk-container-id-2 div.sk-parallel-item {display: flex;flex-direction: column;z-index: 1;position: relative;background-color: white;}#sk-container-id-2 div.sk-parallel-item:first-child::after {align-self: flex-end;width: 50%;}#sk-container-id-2 div.sk-parallel-item:last-child::after {align-self: flex-start;width: 50%;}#sk-container-id-2 div.sk-parallel-item:only-child::after {width: 0;}#sk-container-id-2 div.sk-dashed-wrapped {border: 1px dashed gray;margin: 0 0.4em 0.5em 0.4em;box-sizing: border-box;padding-bottom: 0.4em;background-color: white;}#sk-container-id-2 div.sk-label label {font-family: monospace;font-weight: bold;display: inline-block;line-height: 1.2em;}#sk-container-id-2 div.sk-label-container {text-align: center;}#sk-container-id-2 div.sk-container {/* jupyter's `normalize.less` sets `[hidden] { display: none; }` but bootstrap.min.css set `[hidden] { display: none !important; }` so we also need the `!important` here to be able to override the default hidden behavior on the sphinx rendered scikit-learn.org. See: https://github.com/scikit-learn/scikit-learn/issues/21755 */display: inline-block !important;position: relative;}#sk-container-id-2 div.sk-text-repr-fallback {display: none;}</style><div id=\"sk-container-id-2\" class=\"sk-top-container\"><div class=\"sk-text-repr-fallback\"><pre>LogisticRegression(max_iter=1000, random_state=42)</pre><b>In a Jupyter environment, please rerun this cell to show the HTML representation or trust the notebook. <br />On GitHub, the HTML representation is unable to render, please try loading this page with nbviewer.org.</b></div><div class=\"sk-container\" hidden><div class=\"sk-item\"><div class=\"sk-estimator sk-toggleable\"><input class=\"sk-toggleable__control sk-hidden--visually\" id=\"sk-estimator-id-2\" type=\"checkbox\" checked><label for=\"sk-estimator-id-2\" class=\"sk-toggleable__label sk-toggleable__label-arrow\">LogisticRegression</label><div class=\"sk-toggleable__content\"><pre>LogisticRegression(max_iter=1000, random_state=42)</pre></div></div></div></div></div>"
      ],
      "text/plain": [
       "LogisticRegression(max_iter=1000, random_state=42)"
      ]
     },
     "execution_count": 17,
     "metadata": {},
     "output_type": "execute_result"
    }
   ],
   "source": [
    "# Train a Logistic Regression model\n",
    "log_reg = LogisticRegression(random_state=42, max_iter=1000)\n",
    "log_reg.fit(X_train, y_train)"
   ]
  },
  {
   "cell_type": "code",
   "execution_count": 18,
   "id": "b1d5bf5b-d6a7-4645-b02b-273fec1faa60",
   "metadata": {},
   "outputs": [
    {
     "name": "stdout",
     "output_type": "stream",
     "text": [
      "\n",
      "Final Submission:\n",
      "    Loan_ID Loan_Status\n",
      "0  LP001015           Y\n",
      "1  LP001022           Y\n",
      "2  LP001031           Y\n",
      "3  LP001035           Y\n",
      "4  LP001051           Y\n"
     ]
    }
   ],
   "source": [
    "# Choose the better model for final prediction\n",
    "final_model = log_reg  # or whichever model you choose\n",
    "\n",
    "# Use the chosen model for final predictions\n",
    "X_test = test_data.drop('Loan_ID', axis=1)\n",
    "test_preds = final_model.predict(X_test)\n",
    "\n",
    "# Decode predictions\n",
    "test_preds_decoded = loan_status_le.inverse_transform(test_preds)\n",
    "\n",
    "# Prepare the submission file\n",
    "submission = pd.DataFrame({'Loan_ID': test_data['Loan_ID'], 'Loan_Status': test_preds_decoded})\n",
    "# submission.to_csv('Final_Submission.csv', index=False)\n",
    "\n",
    "print(\"\\nFinal Submission:\")\n",
    "print(submission.head())"
   ]
  },
  {
   "cell_type": "markdown",
   "id": "b591a3c2-e20e-44a3-b32a-689b16fcfde8",
   "metadata": {},
   "source": [
    "# Step 10: Choose the Better Model and Make Final Predictions"
   ]
  },
  {
   "cell_type": "code",
   "execution_count": 19,
   "id": "ea280bda-9a71-4caa-86c2-881dbb0a14b5",
   "metadata": {},
   "outputs": [
    {
     "name": "stdout",
     "output_type": "stream",
     "text": [
      "Logistic Regression Model:\n",
      "Accuracy: 0.7886178861788617\n",
      "Classification Report:\n",
      "              precision    recall  f1-score   support\n",
      "\n",
      "           0       0.95      0.42      0.58        43\n",
      "           1       0.76      0.99      0.86        80\n",
      "\n",
      "    accuracy                           0.79       123\n",
      "   macro avg       0.85      0.70      0.72       123\n",
      "weighted avg       0.83      0.79      0.76       123\n",
      "\n",
      "\n",
      "Random Forest Model:\n",
      "Accuracy: 0.7804878048780488\n",
      "Classification Report:\n",
      "              precision    recall  f1-score   support\n",
      "\n",
      "           0       0.90      0.42      0.57        43\n",
      "           1       0.76      0.97      0.85        80\n",
      "\n",
      "    accuracy                           0.78       123\n",
      "   macro avg       0.83      0.70      0.71       123\n",
      "weighted avg       0.81      0.78      0.75       123\n",
      "\n",
      "\n",
      "Logistic Regression performs better.\n",
      "\n",
      "Final Submission:\n",
      "    Loan_ID Loan_Status\n",
      "0  LP001015           Y\n",
      "1  LP001022           Y\n",
      "2  LP001031           Y\n",
      "3  LP001035           Y\n",
      "4  LP001051           Y\n"
     ]
    }
   ],
   "source": [
    "# Train and evaluate Logistic Regression model\n",
    "log_reg = LogisticRegression(random_state=42, max_iter=1000)\n",
    "log_reg.fit(X_train, y_train)\n",
    "y_val_pred_log = log_reg.predict(X_val)\n",
    "\n",
    "accuracy_log = accuracy_score(y_val, y_val_pred_log)\n",
    "classification_rep_log = classification_report(y_val, y_val_pred_log)\n",
    "\n",
    "print(\"Logistic Regression Model:\")\n",
    "print(f\"Accuracy: {accuracy_log}\")\n",
    "print(f\"Classification Report:\\n{classification_rep_log}\")\n",
    "\n",
    "# Train and evaluate Random Forest model\n",
    "rf_clf = RandomForestClassifier(random_state=42)\n",
    "rf_clf.fit(X_train, y_train)\n",
    "y_val_pred_rf = rf_clf.predict(X_val)\n",
    "\n",
    "accuracy_rf = accuracy_score(y_val, y_val_pred_rf)\n",
    "classification_rep_rf = classification_report(y_val, y_val_pred_rf)\n",
    "\n",
    "print(\"\\nRandom Forest Model:\")\n",
    "print(f\"Accuracy: {accuracy_rf}\")\n",
    "print(f\"Classification Report:\\n{classification_rep_rf}\")\n",
    "\n",
    "# Compare and choose the best model\n",
    "if accuracy_log > accuracy_rf:\n",
    "    print(\"\\nLogistic Regression performs better.\")\n",
    "    final_model = log_reg\n",
    "else:\n",
    "    print(\"\\nRandom Forest performs better.\")\n",
    "    final_model = rf_clf\n",
    "\n",
    "# Use the chosen model for final predictions\n",
    "X_test = test_data.drop('Loan_ID', axis=1)\n",
    "test_preds = final_model.predict(X_test)\n",
    "\n",
    "# Decode predictions\n",
    "test_preds_decoded = loan_status_le.inverse_transform(test_preds)\n",
    "\n",
    "# Prepare the submission file\n",
    "submission = pd.DataFrame({'Loan_ID': test_data['Loan_ID'], 'Loan_Status': test_preds_decoded})\n",
    "submission.to_csv('Final_Submission.csv', index=False)\n",
    "\n",
    "print(\"\\nFinal Submission:\")\n",
    "print(submission.head())"
   ]
  },
  {
   "cell_type": "code",
   "execution_count": null,
   "id": "9e2d89ee-dbd3-44a8-99eb-38557c4009a2",
   "metadata": {},
   "outputs": [],
   "source": []
  }
 ],
 "metadata": {
  "kernelspec": {
   "display_name": "Python 3 (ipykernel)",
   "language": "python",
   "name": "python3"
  },
  "language_info": {
   "codemirror_mode": {
    "name": "ipython",
    "version": 3
   },
   "file_extension": ".py",
   "mimetype": "text/x-python",
   "name": "python",
   "nbconvert_exporter": "python",
   "pygments_lexer": "ipython3",
   "version": "3.11.5"
  }
 },
 "nbformat": 4,
 "nbformat_minor": 5
}
